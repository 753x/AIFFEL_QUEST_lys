{
 "cells": [
  {
   "cell_type": "code",
   "execution_count": 1,
   "id": "63ba3728",
   "metadata": {},
   "outputs": [],
   "source": [
    "# 데이터 로드 및 전처리\n",
    "# reuters 데이터셋을 로드하고, 훈련 데이터셋에서 25%를 검증 데이터셋으로 분리합니다. \n",
    "# 이때 파라메터 조정을 통해 단어의 개수는 10000개로 제한합니다(num_words=10000).\n",
    "import numpy as np\n",
    "import matplotlib.pyplot as plt\n",
    "from sklearn.model_selection import train_test_split\n",
    "\n",
    "from tensorflow.keras import models, layers\n",
    "from tensorflow.keras import callbacks\n",
    "from tensorflow.keras import utils\n",
    "from keras.datasets import reuters"
   ]
  },
  {
   "cell_type": "code",
   "execution_count": 3,
   "id": "7dea52d8",
   "metadata": {},
   "outputs": [
    {
     "name": "stdout",
     "output_type": "stream",
     "text": [
      "6736\n",
      "2246\n",
      "2246\n",
      "46\n"
     ]
    }
   ],
   "source": [
    "# 문제 2-1: reuters 데이터셋을 로드하고, 훈련 데이터셋에서 25%를 검증 데이터셋으로 분리합니다.\n",
    "(train_data, train_labels), (test_data, test_label) = reuters.load_data(num_words=10000)\n",
    "\n",
    "# 훈련 데이터셋을 훈련 및 검증 데이터셋으로 분리 (검증 데이터셋 25%)\n",
    "train_data, val_data, train_labels, val_labels = train_test_split(train_data, train_labels, test_size=0.25, random_state=123)\n",
    "\n",
    "# 훈련, 검증, 테스트 데이터와 레이블 종류가 몇 개인지 출력합니다.\n",
    "print(len(train_data))\n",
    "print(len(val_data))\n",
    "print(len(test_data))\n",
    "print(len(set(train_labels)))"
   ]
  },
  {
   "cell_type": "code",
   "execution_count": 5,
   "id": "5ab0b0ca",
   "metadata": {},
   "outputs": [
    {
     "name": "stdout",
     "output_type": "stream",
     "text": [
      "x_train shape: (6736, 10000)\n",
      "x_val shape: (2246, 10000)\n",
      "x_test shape: (2246, 10000)\n"
     ]
    }
   ],
   "source": [
    "# 문제 2-2: 텍스트 데이터의 전처리를 위해서 각 데이터셋마다 원-핫 인코딩을 수행합니다.\n",
    "import numpy as np\n",
    "def one_hot_encoding(data, dim=10000):\n",
    "  one_hot_data = np.zeros((len(data), dim))\n",
    "  for i, d in enumerate(data):\n",
    "    one_hot_data[i, d] = 1.\n",
    "  return one_hot_data\n",
    "\n",
    "x_train = one_hot_encoding(train_data)\n",
    "x_val = one_hot_encoding(val_data)\n",
    "x_test = one_hot_encoding(test_data)\n",
    "\n",
    "print(\"x_train shape:\", x_train.shape)\n",
    "print(\"x_val shape:\", x_val.shape)\n",
    "print(\"x_test shape:\", x_test.shape)\n",
    "\n",
    "# 레이블 데이터들은 범주형 형태로 to_categorical() 함수를 사용해 변환합니다.\n",
    "from tensorflow.keras.utils import to_categorical\n",
    "\n",
    "x_train = to_categorical(x_train)\n",
    "x_val = to_categorical(x_val)\n",
    "x_test = to_categorical(x_test)"
   ]
  },
  {
   "cell_type": "code",
   "execution_count": null,
   "id": "b95b8c8b",
   "metadata": {},
   "outputs": [],
   "source": [
    "# 모델 구성 및 컴파일\n",
    "\n",
    "# 모델 구성\n",
    "model = models.Sequential()\n",
    "model.add(layers.Dense(units=3200, activation='relu', input_shape=(6736, )))\n",
    "model.\n",
    "model.add(layers.Dense(400, activation='relu'))\n",
    "model.add(layers.Dense(46, activation='relu'))\n",
    "\n",
    "# 컴파일\n",
    "model.compile(optimizer='adam', loss='mse', metrics = 'mae')"
   ]
  }
 ],
 "metadata": {
  "kernelspec": {
   "display_name": "Python 3 (ipykernel)",
   "language": "python",
   "name": "python3"
  },
  "language_info": {
   "codemirror_mode": {
    "name": "ipython",
    "version": 3
   },
   "file_extension": ".py",
   "mimetype": "text/x-python",
   "name": "python",
   "nbconvert_exporter": "python",
   "pygments_lexer": "ipython3",
   "version": "3.9.7"
  }
 },
 "nbformat": 4,
 "nbformat_minor": 5
}
