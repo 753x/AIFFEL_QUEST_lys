{
  "nbformat": 4,
  "nbformat_minor": 0,
  "metadata": {
    "colab": {
      "provenance": [],
      "include_colab_link": true
    },
    "kernelspec": {
      "name": "python3",
      "display_name": "Python 3"
    },
    "language_info": {
      "name": "python"
    }
  },
  "cells": [
    {
      "cell_type": "markdown",
      "metadata": {
        "id": "view-in-github",
        "colab_type": "text"
      },
      "source": [
        "<a href=\"https://colab.research.google.com/github/lys678/AIFFEL_QUEST/blob/main/QUEST01/QUEST01.ipynb\" target=\"_parent\"><img src=\"https://colab.research.google.com/assets/colab-badge.svg\" alt=\"Open In Colab\"/></a>"
      ]
    },
    {
      "cell_type": "code",
      "source": [
        "word =input(\"단어를 입력하세요 : \")\n",
        "reversed_word = word[::-1]\n",
        "\n",
        "print(\"입력값 : \", word)\n",
        "\n",
        "if word == reversed_word :\n",
        "    print(\"뒤집힌 단어는: \", reversed_word)\n",
        "    print(\"입력단어는 회문입니다.\")\n",
        "else :\n",
        "    print(\"회문이 아닙니다.\")"
      ],
      "metadata": {
        "id": "gUMpyMapcKD6"
      },
      "execution_count": null,
      "outputs": []
    },
    {
      "cell_type": "code",
      "source": [],
      "metadata": {
        "id": "fhJAryr8edNc"
      },
      "execution_count": null,
      "outputs": []
    }
  ]
}